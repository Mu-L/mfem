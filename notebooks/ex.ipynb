{
 "cells": [
  {
   "cell_type": "markdown",
   "id": "alike-villa",
   "metadata": {},
   "source": [
    "## Tell cling where to find our mfem libraries\n",
    "\n",
    "You may not even need this locally but for binder we do"
   ]
  },
  {
   "cell_type": "code",
   "execution_count": null,
   "id": "administrative-dollar",
   "metadata": {},
   "outputs": [],
   "source": [
    "#pragma cling add_include_path(\"/home/jovyan/local/include\")\n",
    "#pragma cling add_library_path(\"/home/jovyan/local/lib\")"
   ]
  },
  {
   "cell_type": "markdown",
   "id": "lovely-collins",
   "metadata": {},
   "source": [
    "## Load MFEM\n",
    "\n",
    "Any non-default libraries must be loaded before you can `#include` files that use them"
   ]
  },
  {
   "cell_type": "code",
   "execution_count": null,
   "id": "cultural-anthony",
   "metadata": {},
   "outputs": [],
   "source": [
    "#pragma cling load(\"libmfem\")"
   ]
  },
  {
   "cell_type": "markdown",
   "id": "explicit-vacuum",
   "metadata": {},
   "source": [
    "## Now an example"
   ]
  },
  {
   "cell_type": "code",
   "execution_count": null,
   "id": "ed6722d5",
   "metadata": {},
   "outputs": [],
   "source": [
    "#include <fstream>\n",
    "#include <iostream>\n",
    "#include <sstream>\n",
    "\n",
    "#include <mfem.hpp>\n",
    "#include <glvis/xglvis.hpp>"
   ]
  },
  {
   "cell_type": "code",
   "execution_count": null,
   "id": "c0d4193c",
   "metadata": {},
   "outputs": [],
   "source": [
    "using namespace std;\n",
    "using namespace mfem;\n",
    "\n",
    "Mesh mesh = Mesh::MakeCartesian2D(5, 5, Element::TRIANGLE);\n",
    "mesh.UniformRefinement();\n",
    "\n",
    "H1_FECollection fec(2, mesh.Dimension());\n",
    "\n",
    "FiniteElementSpace fespace(&mesh, &fec);\n",
    "cout << \"Number of finite element unknowns: \" << fespace.GetTrueVSize() << endl;\n",
    "\n",
    "Array<int> ess_tdof_list;\n",
    "if (mesh.bdr_attributes.Size())\n",
    "{\n",
    "  Array<int> ess_bdr(mesh.bdr_attributes.Max());\n",
    "  ess_bdr = 1;\n",
    "  fespace.GetEssentialTrueDofs(ess_bdr, ess_tdof_list);\n",
    "}\n",
    "\n",
    "LinearForm b(&fespace);\n",
    "ConstantCoefficient one(1.0);\n",
    "b.AddDomainIntegrator(new DomainLFIntegrator(one));\n",
    "b.Assemble();\n",
    "\n",
    "GridFunction x(&fespace);\n",
    "x = 0.0;\n",
    "\n",
    "BilinearForm a(&fespace);\n",
    "a.AddDomainIntegrator(new DiffusionIntegrator(one));\n",
    "a.Assemble();\n",
    "\n",
    "OperatorPtr A;\n",
    "Vector B, X;\n",
    "a.FormLinearSystem(ess_tdof_list, x, b, A, X, B);\n",
    "\n",
    "cout << \"Size of linear system: \" << A->Height() << endl;\n",
    "\n",
    "GSSmoother M((SparseMatrix&)(*A));\n",
    "PCG(*A, M, B, X, 1, 200, 1e-12, 0.0);\n",
    "a.RecoverFEMSolution(X, b, x);"
   ]
  },
  {
   "cell_type": "code",
   "execution_count": null,
   "id": "copyrighted-momentum",
   "metadata": {},
   "outputs": [],
   "source": [
    "// for now we just get the stream as a string\n",
    "std::stringstream ss;\n",
    "ss << \"solution\\n\" << mesh << x << flush;"
   ]
  },
  {
   "cell_type": "code",
   "execution_count": null,
   "id": "ac044750",
   "metadata": {},
   "outputs": [],
   "source": [
    "auto glv = glvis::glvis();\n",
    "// the `+ \"keys ....\"' is optional\n",
    "glv.show(ss.str() + \"keys Rjml\");\n",
    "glv"
   ]
  },
  {
   "cell_type": "code",
   "execution_count": null,
   "id": "australian-international",
   "metadata": {},
   "outputs": [],
   "source": []
  }
 ],
 "metadata": {
  "kernelspec": {
   "display_name": "C++14",
   "language": "C++14",
   "name": "xcpp14"
  },
  "language_info": {
   "codemirror_mode": "text/x-c++src",
   "file_extension": ".cpp",
   "mimetype": "text/x-c++src",
   "name": "c++",
   "version": "14"
  }
 },
 "nbformat": 4,
 "nbformat_minor": 5
}
