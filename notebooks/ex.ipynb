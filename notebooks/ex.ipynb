{
 "cells": [
  {
   "cell_type": "markdown",
   "id": "82738c3c",
   "metadata": {},
   "source": [
    "## File Example"
   ]
  },
  {
   "cell_type": "code",
   "execution_count": null,
   "id": "9fe60d7d",
   "metadata": {},
   "outputs": [],
   "source": [
    "#include \"glvis/xglvis.hpp\""
   ]
  },
  {
   "cell_type": "code",
   "execution_count": null,
   "id": "760bafcd",
   "metadata": {},
   "outputs": [],
   "source": [
    "const std::string ex9 = glvis::read_file(\"/Users/stitt4/workspace/glvis-js/data/ex9.saved\");\n",
    "const std::string ex1 = glvis::read_file(\"/Users/stitt4/workspace/glvis-js/data/ex1.saved\");"
   ]
  },
  {
   "cell_type": "code",
   "execution_count": null,
   "id": "496e0343",
   "metadata": {},
   "outputs": [],
   "source": [
    "auto glv = glvis::glvis();\n",
    "glv.show(ex9);\n",
    "glv"
   ]
  },
  {
   "cell_type": "code",
   "execution_count": null,
   "id": "aedf1933",
   "metadata": {},
   "outputs": [],
   "source": [
    "glv.resize(200, 200)"
   ]
  },
  {
   "cell_type": "code",
   "execution_count": null,
   "id": "22d7104a",
   "metadata": {},
   "outputs": [],
   "source": [
    "glv.show(ex1);"
   ]
  },
  {
   "cell_type": "code",
   "execution_count": null,
   "id": "9a13d049",
   "metadata": {},
   "outputs": [],
   "source": [
    "glv.resize()"
   ]
  },
  {
   "cell_type": "markdown",
   "id": "f036e4b3",
   "metadata": {},
   "source": [
    "## MFEM Example"
   ]
  },
  {
   "cell_type": "code",
   "execution_count": null,
   "id": "35a60470",
   "metadata": {},
   "outputs": [],
   "source": [
    "# shouldn't be needed?\n",
    "#pragma cling add_include_path(\"/Users/stitt4/workspace/mfem-host\")\n",
    "#pragma cling add_library_path(\"/Users/stitt4/workspace/mfem-host\")"
   ]
  },
  {
   "cell_type": "code",
   "execution_count": null,
   "id": "8091b9c9",
   "metadata": {},
   "outputs": [],
   "source": [
    "#pragma cling load(\"libmfem\")"
   ]
  },
  {
   "cell_type": "code",
   "execution_count": null,
   "id": "ed6722d5",
   "metadata": {},
   "outputs": [],
   "source": [
    "#include <mfem.hpp>\n",
    "#include <fstream>\n",
    "#include <iostream>\n",
    "#include <sstream>"
   ]
  },
  {
   "cell_type": "code",
   "execution_count": null,
   "id": "c0d4193c",
   "metadata": {},
   "outputs": [],
   "source": [
    "using namespace std;\n",
    "using namespace mfem;\n",
    "\n",
    "Mesh mesh = Mesh::MakeCartesian2D(5, 5, Element::TRIANGLE);\n",
    "mesh.UniformRefinement();\n",
    "\n",
    "FiniteElementCollection * fec = new H1_FECollection(2, mesh.Dimension());\n",
    "FiniteElementSpace fespace(&mesh, fec);\n",
    "cout << \"Number of finite element unknowns: \" << fespace.GetTrueVSize() << endl;\n",
    "\n",
    "Array<int> ess_tdof_list;\n",
    "if (mesh.bdr_attributes.Size())\n",
    "{\n",
    "  Array<int> ess_bdr(mesh.bdr_attributes.Max());\n",
    "  ess_bdr = 1;\n",
    "  fespace.GetEssentialTrueDofs(ess_bdr, ess_tdof_list);\n",
    "}\n",
    "\n",
    "LinearForm b(&fespace);\n",
    "ConstantCoefficient one(1.0);\n",
    "b.AddDomainIntegrator(new DomainLFIntegrator(one));\n",
    "b.Assemble();\n",
    "\n",
    "GridFunction x(&fespace);\n",
    "x = 0.0;\n",
    "\n",
    "BilinearForm a(&fespace);\n",
    "a.AddDomainIntegrator(new DiffusionIntegrator(one));\n",
    "a.Assemble();\n",
    "\n",
    "OperatorPtr A;\n",
    "Vector B, X;\n",
    "a.FormLinearSystem(ess_tdof_list, x, b, A, X, B);\n",
    "\n",
    "cout << \"Size of linear system: \" << A->Height() << endl;\n",
    "\n",
    "GSSmoother M((SparseMatrix&)(*A));\n",
    "PCG(*A, M, B, X, 1, 200, 1e-12, 0.0);\n",
    "a.RecoverFEMSolution(X, b, x);\n",
    "\n",
    "std::stringstream ss;\n",
    "\n",
    "ss << \"solution\\n\" << mesh << x << flush;\n",
    "\n",
    "delete fec;"
   ]
  },
  {
   "cell_type": "code",
   "execution_count": null,
   "id": "ac044750",
   "metadata": {},
   "outputs": [],
   "source": [
    "auto glv = glvis::glvis();\n",
    "glv.show(ss.str());\n",
    "glv"
   ]
  },
  {
   "cell_type": "code",
   "execution_count": null,
   "id": "0025411a",
   "metadata": {},
   "outputs": [],
   "source": []
  }
 ],
 "metadata": {
  "kernelspec": {
   "display_name": "C++14",
   "language": "C++14",
   "name": "xcpp14"
  },
  "language_info": {
   "codemirror_mode": "text/x-c++src",
   "file_extension": ".cpp",
   "mimetype": "text/x-c++src",
   "name": "c++",
   "version": "14"
  }
 },
 "nbformat": 4,
 "nbformat_minor": 5
}
